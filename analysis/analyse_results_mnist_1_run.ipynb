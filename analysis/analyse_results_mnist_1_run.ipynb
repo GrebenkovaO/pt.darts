{
 "cells": [
  {
   "cell_type": "code",
   "execution_count": 1,
   "metadata": {},
   "outputs": [],
   "source": [
    "\"\"\"\n",
    "модели:\n",
    "1. обычная DARTS\n",
    "2. DARTS с пониженной температурой\n",
    "3. DARTS с Gumbel-Softmax\n",
    "4. VarDarts\n",
    "5. VarDarts без Gumbel-Softmax\n",
    "6. VarDarts без параметов\n",
    "7-12. Их версии с дообучением\n",
    "\"\"\"\n",
    "\n",
    "\"\"\"\n",
    "критерии качества:\n",
    "1. Accuracy\n",
    "2. Количество параметров\n",
    "3. Accuacy при FDM\n",
    "4. Качество при удалении нод\n",
    "5. Качество при квантизации\n",
    "\"\"\"\n",
    "\n",
    "_ = _"
   ]
  },
  {
   "cell_type": "code",
   "execution_count": 1,
   "metadata": {},
   "outputs": [],
   "source": [
    "\"\"\" Search cell \"\"\"\n",
    "import os\n",
    "import torch\n",
    "import torch.nn as nn\n",
    "import torch.optim as optim\n",
    "import numpy as np\n",
    "import sys\n",
    "sys.path.append('..')\n",
    "from tensorboardX import SummaryWriter\n",
    "from config import SearchConfig\n",
    "import utils\n",
    "from architect import Architect\n",
    "from importlib import import_module\n",
    "import matplotlib.pylab as plt\n",
    "import scipy.ndimage as ndim\n",
    "import tqdm"
   ]
  },
  {
   "cell_type": "code",
   "execution_count": 2,
   "metadata": {},
   "outputs": [
    {
     "name": "stderr",
     "output_type": "stream",
     "text": [
      "/usr/local/lib/python3.8/dist-packages/torchvision/datasets/mnist.py:55: UserWarning: train_data has been renamed data\n",
      "  warnings.warn(\"train_data has been renamed data\")\n"
     ]
    }
   ],
   "source": [
    "# get data with meta info\n",
    "input_size, input_channels, n_classes, train_data, valid_data = utils.get_data(\n",
    "    'mnist', '../data/', cutout_length=0, validation=True)"
   ]
  },
  {
   "cell_type": "code",
   "execution_count": 5,
   "metadata": {},
   "outputs": [],
   "source": []
  },
  {
   "cell_type": "code",
   "execution_count": 6,
   "metadata": {},
   "outputs": [],
   "source": []
  },
  {
   "cell_type": "code",
   "execution_count": 7,
   "metadata": {},
   "outputs": [],
   "source": []
  },
  {
   "cell_type": "code",
   "execution_count": 3,
   "metadata": {},
   "outputs": [
    {
     "data": {
      "text/plain": [
       "Dataset MNIST\n",
       "    Number of datapoints: 60000\n",
       "    Root location: ../data/\n",
       "    Split: Train\n",
       "    StandardTransform\n",
       "Transform: Compose(\n",
       "               RandomAffine(degrees=(-15, 15), translate=(0.1, 0.1), scale=(0.9, 1.1), shear=(-0.1, 0.1))\n",
       "               ToTensor()\n",
       "               Normalize(mean=[0.13066051707548254], std=[0.30810780244715075])\n",
       "           )"
      ]
     },
     "execution_count": 3,
     "metadata": {},
     "output_type": "execute_result"
    }
   ],
   "source": [
    "train_data"
   ]
  },
  {
   "cell_type": "code",
   "execution_count": 4,
   "metadata": {},
   "outputs": [],
   "source": [
    "train_loader = torch.utils.data.DataLoader(train_data,\n",
    "                                               batch_size=64,\n",
    "                                               shuffle=True,\n",
    "                                               num_workers=32,\n",
    "                                               pin_memory=True)\n",
    "\n",
    "valid_loader = torch.utils.data.DataLoader(valid_data,\n",
    "                                           batch_size=64,\n",
    "                                           shuffle=False,\n",
    "                                           num_workers=1,\n",
    "                                           pin_memory=True)"
   ]
  },
  {
   "cell_type": "code",
   "execution_count": 5,
   "metadata": {},
   "outputs": [],
   "source": [
    "all_ = []\n",
    "for x,y in train_loader:\n",
    "    all_.extend(x.tolist())\n",
    "\n",
    "stds = np.std(all_, 0)\n",
    "stds/=np.linalg.norm(stds)\n",
    "\n",
    "stds_torch =torch.tensor(1.0-stds, dtype=torch.float)"
   ]
  },
  {
   "cell_type": "code",
   "execution_count": 6,
   "metadata": {},
   "outputs": [],
   "source": [
    "def load_model_darts(tip='normal', fine_tune=False):\n",
    "    device = torch.device(\"cuda\")\n",
    "    if tip == 'normal':\n",
    "        best_path = os.path.join('../searchs/new_rtx/mnist_darts/', 'best.pth.tar')\n",
    "    elif tip == 'lowt':\n",
    "        best_path = os.path.join('../searchs/new_rtx/mnist_darts_temp_lower', 'best.pth.tar')\n",
    "    elif tip == 'gs':\n",
    "        best_path = os.path.join('../search_4_oct/mnist_darts_gs/', 'best.pth.tar')\n",
    "    model = torch.load(best_path)\n",
    "    model.prune()\n",
    "    model = model.to(device)\n",
    "    for p in model.alpha_normal:\n",
    "            p.requires_grad = False\n",
    "    for p in model.alpha_reduce:\n",
    "        p.requires_grad = False    \n",
    "        \n",
    "    if fine_tune:\n",
    "        optimizer = optim.Adam(model.net.parameters(), lr=0.001)\n",
    "        t = tqdm.tqdm(train_loader)\n",
    "        losses = []\n",
    "        for x,y in t:    \n",
    "            x = x.cuda()\n",
    "            y = y.cuda()\n",
    "            optimizer.zero_grad()\n",
    "            loss = model.loss(x,y)\n",
    "            loss.backward()\n",
    "            optimizer.step()            \n",
    "            losses.append(loss.cpu().detach().numpy())\n",
    "            t.set_description(str(np.mean(losses[-10:])))\n",
    "    return model\n",
    "\n",
    "def load_model_var_darts(tip='normal', fine_tune=False):\n",
    "    device = torch.device(\"cuda\")\n",
    "    if tip == 'normal':\n",
    "        best_path = os.path.join('../search_4_oct/mnist_darts_var_local/', 'best.pth.tar')\n",
    "    elif tip == 't_only':\n",
    "        best_path = os.path.join('../rtx_search/mnist_darts_var_local_only_gamma', 'best.pth.tar')\n",
    "    elif tip == 'w_only':\n",
    "        best_path = os.path.join('../search_4_oct/mnist_darts_var_local_only_w', 'best.pth.tar')\n",
    "    else:\n",
    "        best_path = os.path.join(tip, 'best.pth.tar')\n",
    "    model = torch.load(best_path)\n",
    "    \n",
    "    model.net.prune(w=False)\n",
    "    model = model.to(device)\n",
    "    \n",
    "    \n",
    "    for p in model.net.q_gamma_reduce:\n",
    "            p.requires_grad = False\n",
    "    for p in model.net.q_gamma_normal:\n",
    "        p.requires_grad = False    \n",
    "        \n",
    "    if fine_tune:\n",
    "        optimizer = optim.Adam(model.net.parameters(), lr=0.001)\n",
    "        t = tqdm.tqdm(train_loader)\n",
    "        losses = []\n",
    "        for x,y in t:    \n",
    "            x = x.cuda()\n",
    "            y = y.cuda()\n",
    "            optimizer.zero_grad()\n",
    "            loss = model.loss(x,y)\n",
    "            loss.backward()\n",
    "            optimizer.step()            \n",
    "            losses.append(loss.cpu().detach().numpy())\n",
    "            t.set_description(str(np.mean(losses[-10:])))\n",
    "    model.net.prune(w=True)\n",
    "    return model"
   ]
  },
  {
   "cell_type": "code",
   "execution_count": 7,
   "metadata": {},
   "outputs": [
    {
     "ename": "ZeroDivisionError",
     "evalue": "division by zero",
     "output_type": "error",
     "traceback": [
      "\u001b[0;31m---------------------------------------------------------------------------\u001b[0m",
      "\u001b[0;31mZeroDivisionError\u001b[0m                         Traceback (most recent call last)",
      "\u001b[0;32m<ipython-input-7-b07c641b2003>\u001b[0m in \u001b[0;36m<module>\u001b[0;34m\u001b[0m\n\u001b[1;32m      1\u001b[0m \u001b[0;32mfor\u001b[0m \u001b[0mx\u001b[0m\u001b[0;34m,\u001b[0m\u001b[0my\u001b[0m \u001b[0;32min\u001b[0m \u001b[0mtrain_loader\u001b[0m\u001b[0;34m:\u001b[0m\u001b[0;34m\u001b[0m\u001b[0;34m\u001b[0m\u001b[0m\n\u001b[0;32m----> 2\u001b[0;31m     \u001b[0;36m1\u001b[0m\u001b[0;34m/\u001b[0m\u001b[0;36m0\u001b[0m\u001b[0;34m\u001b[0m\u001b[0;34m\u001b[0m\u001b[0m\n\u001b[0m",
      "\u001b[0;31mZeroDivisionError\u001b[0m: division by zero"
     ]
    }
   ],
   "source": [
    "for x,y in train_loader:\n",
    "    1/0"
   ]
  },
  {
   "cell_type": "code",
   "execution_count": 24,
   "metadata": {},
   "outputs": [
    {
     "data": {
      "text/plain": [
       "torch.Size([1, 28, 28])"
      ]
     },
     "execution_count": 24,
     "metadata": {},
     "output_type": "execute_result"
    }
   ],
   "source": []
  },
  {
   "cell_type": "code",
   "execution_count": 7,
   "metadata": {},
   "outputs": [],
   "source": [
    "def calculate_metrics(model, var=False):\n",
    "    result = {}\n",
    "    model.eval()\n",
    "\n",
    "    \n",
    "    # param number\n",
    "    print ('running param num')\n",
    "    p_num = 0\n",
    "    for cell in model.net.cells:\n",
    "        if var:\n",
    "            weights = model.net.q_gamma_reduce if cell.reduction else model.q_gamma_normal\n",
    "        else:\n",
    "            weights = model.alpha_reduce if cell.reduction else model.alpha_normal\n",
    "        for dag_i, dag in enumerate(cell.dag):\n",
    "            cur_w = weights[dag_i]\n",
    "            for i, mo in enumerate(dag):   \n",
    "                if cur_w[i].sum()>0:                \n",
    "                    argm = cur_w[i].argmax()                \n",
    "                    for p in mo._ops[argm].parameters():\n",
    "                        size = p.size()                    \n",
    "                        if len(size)==1:\n",
    "                            p_num += size[0]\n",
    "                        elif len(size) >= 2:\n",
    "                            p_num += np.prod(size)    \n",
    "    result['p_num'] = p_num\n",
    "    \n",
    "    \n",
    "    # accuracy\n",
    "    print ('running acc')\n",
    "    res = []\n",
    "    for x,y in valid_loader:\n",
    "        x = x.cuda()        \n",
    "        out = model(x).argmax(1)\n",
    "        \n",
    "        res.extend(torch.eq(model(x).argmax(1).cpu().detach(), y).numpy().tolist())\n",
    "        break\n",
    "    result['accuracy'] = np.mean(res)\n",
    "    # Simple noise\n",
    "    res = []\n",
    "    for i in range(1, 10):\n",
    "            print ('running noise', i)\n",
    "            res.append([])\n",
    "            for x,y in valid_loader:\n",
    "                x = (x+torch.rand(x.shape)*i*stds_torch*.05).cuda()\n",
    "                y = y.cuda()\n",
    "                res[-1].extend(torch.eq(model(x).argmax(1).cpu().detach(), y.cpu().detach()).numpy().tolist())\n",
    "                break\n",
    "    result['noise'] = [np.mean(r) for r in res]\n",
    "    # FGM-acc\n",
    "    \n",
    "    res = []\n",
    "    for i in range(1, 10):\n",
    "            print ('running fgm', i)\n",
    "            res.append([])\n",
    "            for x,y in valid_loader:\n",
    "                x = x.cuda()\n",
    "                y = y.cuda()\n",
    "                x.requires_grad = True \n",
    "                #loss = model.loss(x, y)\n",
    "                loss = model.criterion(model(x), y)\n",
    "                model.zero_grad()\n",
    "                loss.backward()\n",
    "                data_grad = x.grad.data\n",
    "                sign_data_grad = data_grad.sign()    \n",
    "                perturbed_image = x + i/100*sign_data_grad                    \n",
    "\n",
    "                res[-1].extend(torch.eq(model(perturbed_image).argmax(1).cpu().detach(), y.cpu().detach()).numpy().tolist())\n",
    "                break\n",
    "    result['fgm'] = [np.mean(r) for r in res]\n",
    "    \n",
    "   \n",
    "    for cell in model.net.cells:\n",
    "        active_gammas = []\n",
    "        if var:\n",
    "            weights = model.net.q_gamma_reduce if cell.reduction else model.q_gamma_normal\n",
    "        else:\n",
    "            weights = model.alpha_reduce if cell.reduction else model.alpha_normal\n",
    "        for i in range(len(weights)):\n",
    "            for j in range(len(weights[i])):\n",
    "                if weights[i][j].sum()>0:\n",
    "                    active_gammas.append((i,j,weights[i][j].argmax()))\n",
    "        for g in active_gammas:\n",
    "            res.append([])\n",
    "            i,j,k = g\n",
    "            #weights[i][j].data[k]*=0\n",
    "            weights[i][j].data[k]*=-1\n",
    "            for x,y in valid_loader:\n",
    "                x = x.cuda()        \n",
    "                out = model(x).argmax(1)\n",
    "\n",
    "                res[-1].extend(torch.eq(model(x).argmax(1).cpu().detach(), y).numpy().tolist())\n",
    "                break\n",
    "            weights[i][j].data[k]=1\n",
    "            \n",
    "    result['gamma'] = np.mean([np.mean(r) for r in res])\n",
    "\n",
    "    return result\n",
    "    "
   ]
  },
  {
   "cell_type": "code",
   "execution_count": 8,
   "metadata": {
    "scrolled": true
   },
   "outputs": [
    {
     "name": "stdout",
     "output_type": "stream",
     "text": [
      "running param num\n",
      "running acc\n"
     ]
    },
    {
     "name": "stderr",
     "output_type": "stream",
     "text": [
      "/usr/local/lib/python3.8/dist-packages/torch/serialization.py:657: SourceChangeWarning: source code of class 'models.cnn.search_cnn.SearchCNNController' has changed. you can retrieve the original source code by accessing the object's source attribute or set `torch.nn.Module.dump_patches = True` and use the patch tool to revert the changes.\n",
      "  warnings.warn(msg, SourceChangeWarning)\n",
      "/usr/local/lib/python3.8/dist-packages/torch/serialization.py:657: SourceChangeWarning: source code of class 'models.cnn.search_cnn.SearchCNN' has changed. you can retrieve the original source code by accessing the object's source attribute or set `torch.nn.Module.dump_patches = True` and use the patch tool to revert the changes.\n",
      "  warnings.warn(msg, SourceChangeWarning)\n",
      "/usr/local/lib/python3.8/dist-packages/torch/serialization.py:657: SourceChangeWarning: source code of class 'models.cnn.search_cells.SearchCell' has changed. you can retrieve the original source code by accessing the object's source attribute or set `torch.nn.Module.dump_patches = True` and use the patch tool to revert the changes.\n",
      "  warnings.warn(msg, SourceChangeWarning)\n",
      "/usr/local/lib/python3.8/dist-packages/torch/serialization.py:657: SourceChangeWarning: source code of class 'models.cnn.ops.MixedOp' has changed. you can retrieve the original source code by accessing the object's source attribute or set `torch.nn.Module.dump_patches = True` and use the patch tool to revert the changes.\n",
      "  warnings.warn(msg, SourceChangeWarning)\n"
     ]
    },
    {
     "name": "stdout",
     "output_type": "stream",
     "text": [
      "running noise 1\n",
      "running noise 2\n",
      "running noise 3\n",
      "running noise 4\n",
      "running noise 5\n",
      "running noise 6\n",
      "running noise 7\n",
      "running noise 8\n",
      "running noise 9\n",
      "running fgm 1\n",
      "running fgm 2\n",
      "running fgm 3\n",
      "running fgm 4\n",
      "running fgm 5\n",
      "running fgm 6\n",
      "running fgm 7\n",
      "running fgm 8\n",
      "running fgm 9\n",
      "darts {'p_num': 10928, 'accuracy': 0.203125, 'noise': [0.203125, 0.21875, 0.1875, 0.171875, 0.1875, 0.1875, 0.1875, 0.1875, 0.1875], 'fgm': [0.140625, 0.078125, 0.046875, 0.03125, 0.03125, 0.03125, 0.03125, 0.03125, 0.03125], 'gamma': 0.11141304347826086}\n",
      "running param num\n",
      "running acc\n",
      "running noise 1\n",
      "running noise 2\n",
      "running noise 3\n",
      "running noise 4\n",
      "running noise 5\n",
      "running noise 6\n",
      "running noise 7\n",
      "running noise 8\n",
      "running noise 9\n",
      "running fgm 1\n",
      "running fgm 2\n",
      "running fgm 3\n",
      "running fgm 4\n",
      "running fgm 5\n",
      "running fgm 6\n",
      "running fgm 7\n",
      "running fgm 8\n",
      "running fgm 9\n",
      "lowt {'p_num': 9872, 'accuracy': 0.125, 'noise': [0.125, 0.125, 0.125, 0.125, 0.125, 0.109375, 0.109375, 0.125, 0.078125], 'fgm': [0.109375, 0.078125, 0.078125, 0.03125, 0.03125, 0.03125, 0.03125, 0.03125, 0.03125], 'gamma': 0.08491847826086957}\n",
      "running param num\n",
      "running acc\n",
      "running noise 1\n",
      "running noise 2\n",
      "running noise 3\n",
      "running noise 4\n",
      "running noise 5\n",
      "running noise 6\n",
      "running noise 7\n",
      "running noise 8\n",
      "running noise 9\n",
      "running fgm 1\n",
      "running fgm 2\n",
      "running fgm 3\n",
      "running fgm 4\n",
      "running fgm 5\n",
      "running fgm 6\n",
      "running fgm 7\n",
      "running fgm 8\n",
      "running fgm 9\n",
      "gs {'p_num': 3936, 'accuracy': 0.953125, 'noise': [0.953125, 0.9375, 0.859375, 0.8125, 0.65625, 0.609375, 0.5, 0.4375, 0.390625], 'fgm': [0.9375, 0.9375, 0.890625, 0.859375, 0.796875, 0.75, 0.6875, 0.625, 0.578125], 'gamma': 0.875}\n"
     ]
    }
   ],
   "source": [
    "model = load_model_darts(fine_tune=False)\n",
    "print ('darts', calculate_metrics(model, var=False))\n",
    "\n",
    "model = load_model_darts('lowt', fine_tune=False)\n",
    "print ('lowt', calculate_metrics(model, var=False))\n",
    "\n",
    "model = load_model_darts('gs',fine_tune=False)\n",
    "print ('gs', calculate_metrics(model, var=False))"
   ]
  },
  {
   "cell_type": "code",
   "execution_count": 9,
   "metadata": {
    "scrolled": true
   },
   "outputs": [
    {
     "name": "stdout",
     "output_type": "stream",
     "text": [
      "running param num\n",
      "running acc\n"
     ]
    },
    {
     "name": "stderr",
     "output_type": "stream",
     "text": [
      "/usr/local/lib/python3.8/dist-packages/torch/serialization.py:657: SourceChangeWarning: source code of class 'models.cnn_var_local.ops.MixedOp' has changed. you can retrieve the original source code by accessing the object's source attribute or set `torch.nn.Module.dump_patches = True` and use the patch tool to revert the changes.\n",
      "  warnings.warn(msg, SourceChangeWarning)\n"
     ]
    },
    {
     "name": "stdout",
     "output_type": "stream",
     "text": [
      "running noise 1\n",
      "running noise 2\n",
      "running noise 3\n",
      "running noise 4\n",
      "running noise 5\n",
      "running noise 6\n",
      "running noise 7\n",
      "running noise 8\n",
      "running noise 9\n",
      "running fgm 1\n",
      "running fgm 2\n",
      "running fgm 3\n",
      "running fgm 4\n",
      "running fgm 5\n",
      "running fgm 6\n",
      "running fgm 7\n",
      "running fgm 8\n",
      "running fgm 9\n",
      "var-darts {'p_num': 17056, 'accuracy': 0.96875, 'noise': [0.96875, 0.96875, 0.96875, 0.984375, 0.9375, 0.90625, 0.78125, 0.5625, 0.3125], 'fgm': [0.96875, 0.96875, 0.96875, 0.953125, 0.953125, 0.953125, 0.9375, 0.90625, 0.890625], 'gamma': 0.8695652173913043}\n",
      "running param num\n",
      "running acc\n"
     ]
    },
    {
     "name": "stderr",
     "output_type": "stream",
     "text": [
      "/usr/local/lib/python3.8/dist-packages/torch/serialization.py:657: SourceChangeWarning: source code of class 'models.cnn_var_local.search_cnn.LVarSearchCNNController' has changed. you can retrieve the original source code by accessing the object's source attribute or set `torch.nn.Module.dump_patches = True` and use the patch tool to revert the changes.\n",
      "  warnings.warn(msg, SourceChangeWarning)\n",
      "/usr/local/lib/python3.8/dist-packages/torch/serialization.py:657: SourceChangeWarning: source code of class 'models.cnn_var_local.search_cnn.LVarSearchCNN' has changed. you can retrieve the original source code by accessing the object's source attribute or set `torch.nn.Module.dump_patches = True` and use the patch tool to revert the changes.\n",
      "  warnings.warn(msg, SourceChangeWarning)\n",
      "/usr/local/lib/python3.8/dist-packages/torch/serialization.py:657: SourceChangeWarning: source code of class 'models.cnn_var_local.search_cells.SearchCell' has changed. you can retrieve the original source code by accessing the object's source attribute or set `torch.nn.Module.dump_patches = True` and use the patch tool to revert the changes.\n",
      "  warnings.warn(msg, SourceChangeWarning)\n"
     ]
    },
    {
     "name": "stdout",
     "output_type": "stream",
     "text": [
      "running noise 1\n",
      "running noise 2\n",
      "running noise 3\n",
      "running noise 4\n",
      "running noise 5\n",
      "running noise 6\n",
      "running noise 7\n",
      "running noise 8\n",
      "running noise 9\n",
      "running fgm 1\n",
      "running fgm 2\n",
      "running fgm 3\n",
      "running fgm 4\n",
      "running fgm 5\n",
      "running fgm 6\n",
      "running fgm 7\n",
      "running fgm 8\n",
      "running fgm 9\n",
      "var-darts-only-w {'p_num': 10496, 'accuracy': 0.984375, 'noise': [0.984375, 0.984375, 0.984375, 0.96875, 0.875, 0.828125, 0.703125, 0.578125, 0.421875], 'fgm': [0.984375, 0.96875, 0.953125, 0.9375, 0.90625, 0.890625, 0.875, 0.875, 0.875], 'gamma': 0.7418478260869565}\n",
      "running param num\n",
      "running acc\n",
      "running noise 1\n",
      "running noise 2\n",
      "running noise 3\n",
      "running noise 4\n",
      "running noise 5\n",
      "running noise 6\n",
      "running noise 7\n",
      "running noise 8\n",
      "running noise 9\n",
      "running fgm 1\n",
      "running fgm 2\n",
      "running fgm 3\n",
      "running fgm 4\n",
      "running fgm 5\n",
      "running fgm 6\n",
      "running fgm 7\n",
      "running fgm 8\n",
      "running fgm 9\n",
      "var-darts-only-g {'p_num': 6848, 'accuracy': 0.96875, 'noise': [0.984375, 0.984375, 0.953125, 0.859375, 0.71875, 0.59375, 0.5, 0.421875, 0.296875], 'fgm': [0.96875, 0.953125, 0.9375, 0.875, 0.84375, 0.796875, 0.78125, 0.703125, 0.59375], 'gamma': 0.8960597826086957}\n"
     ]
    }
   ],
   "source": [
    "model = load_model_var_darts(fine_tune=False)\n",
    "print ('var-darts', calculate_metrics(model, var=True))\n",
    "\n",
    "model = load_model_var_darts('w_only', fine_tune=False)\n",
    "print ('var-darts-only-w', calculate_metrics(model, var=True))\n",
    "\n",
    "model = load_model_var_darts('t_only',fine_tune=False)\n",
    "print ('var-darts-only-g', calculate_metrics(model, var=True))"
   ]
  },
  {
   "cell_type": "code",
   "execution_count": null,
   "metadata": {},
   "outputs": [],
   "source": []
  },
  {
   "cell_type": "code",
   "execution_count": 73,
   "metadata": {
    "scrolled": true
   },
   "outputs": [
    {
     "name": "stderr",
     "output_type": "stream",
     "text": [
      "0.10663185: 100%|██████████| 938/938 [02:03<00:00,  7.61it/s] "
     ]
    },
    {
     "name": "stdout",
     "output_type": "stream",
     "text": [
      "running param num\n",
      "running acc\n"
     ]
    },
    {
     "name": "stderr",
     "output_type": "stream",
     "text": [
      "\n"
     ]
    },
    {
     "name": "stdout",
     "output_type": "stream",
     "text": [
      "running noise 1\n",
      "running noise 2\n",
      "running noise 3\n",
      "running noise 4\n",
      "running noise 5\n",
      "running noise 6\n",
      "running noise 7\n",
      "running noise 8\n",
      "running noise 9\n",
      "running fgm 1\n",
      "running fgm 2\n",
      "running fgm 3\n",
      "running fgm 4\n",
      "running fgm 5\n",
      "running fgm 6\n",
      "running fgm 7\n",
      "running fgm 8\n",
      "running fgm 9\n"
     ]
    },
    {
     "name": "stderr",
     "output_type": "stream",
     "text": [
      "\r",
      "  0%|          | 0/938 [00:00<?, ?it/s]"
     ]
    },
    {
     "name": "stdout",
     "output_type": "stream",
     "text": [
      "darts {'p_num': 10928, 'accuracy': 0.984375, 'noise': [0.984375, 0.984375, 0.96875, 0.96875, 0.96875, 0.96875, 0.96875, 0.90625, 0.8125], 'fgm': [0.96875, 0.9375, 0.90625, 0.890625, 0.890625, 0.859375, 0.828125, 0.78125, 0.75], 'gamma': 0.8417119565217391}\n"
     ]
    },
    {
     "name": "stderr",
     "output_type": "stream",
     "text": [
      "1.3416932:   5%|▍         | 46/938 [00:07<02:21,  6.32it/s]\n"
     ]
    },
    {
     "ename": "KeyboardInterrupt",
     "evalue": "",
     "output_type": "error",
     "traceback": [
      "\u001b[0;31m---------------------------------------------------------------------------\u001b[0m",
      "\u001b[0;31mKeyboardInterrupt\u001b[0m                         Traceback (most recent call last)",
      "\u001b[0;32m<ipython-input-73-cf2b5f13d7a9>\u001b[0m in \u001b[0;36m<module>\u001b[0;34m\u001b[0m\n\u001b[1;32m      2\u001b[0m \u001b[0mprint\u001b[0m \u001b[0;34m(\u001b[0m\u001b[0;34m'darts'\u001b[0m\u001b[0;34m,\u001b[0m \u001b[0mcalculate_metrics\u001b[0m\u001b[0;34m(\u001b[0m\u001b[0mmodel\u001b[0m\u001b[0;34m,\u001b[0m \u001b[0mvar\u001b[0m\u001b[0;34m=\u001b[0m\u001b[0;32mFalse\u001b[0m\u001b[0;34m)\u001b[0m\u001b[0;34m)\u001b[0m\u001b[0;34m\u001b[0m\u001b[0;34m\u001b[0m\u001b[0m\n\u001b[1;32m      3\u001b[0m \u001b[0;34m\u001b[0m\u001b[0m\n\u001b[0;32m----> 4\u001b[0;31m \u001b[0mmodel\u001b[0m \u001b[0;34m=\u001b[0m \u001b[0mload_model_darts\u001b[0m\u001b[0;34m(\u001b[0m\u001b[0;34m'lowt'\u001b[0m\u001b[0;34m,\u001b[0m \u001b[0mfine_tune\u001b[0m\u001b[0;34m=\u001b[0m\u001b[0;32mTrue\u001b[0m\u001b[0;34m)\u001b[0m\u001b[0;34m\u001b[0m\u001b[0;34m\u001b[0m\u001b[0m\n\u001b[0m\u001b[1;32m      5\u001b[0m \u001b[0mprint\u001b[0m \u001b[0;34m(\u001b[0m\u001b[0;34m'lowt'\u001b[0m\u001b[0;34m,\u001b[0m \u001b[0mcalculate_metrics\u001b[0m\u001b[0;34m(\u001b[0m\u001b[0mmodel\u001b[0m\u001b[0;34m,\u001b[0m \u001b[0mvar\u001b[0m\u001b[0;34m=\u001b[0m\u001b[0;32mFalse\u001b[0m\u001b[0;34m)\u001b[0m\u001b[0;34m)\u001b[0m\u001b[0;34m\u001b[0m\u001b[0;34m\u001b[0m\u001b[0m\n\u001b[1;32m      6\u001b[0m \u001b[0;34m\u001b[0m\u001b[0m\n",
      "\u001b[0;32m<ipython-input-6-00cff3c2a43c>\u001b[0m in \u001b[0;36mload_model_darts\u001b[0;34m(tip, fine_tune)\u001b[0m\n\u001b[1;32m     25\u001b[0m             \u001b[0mloss\u001b[0m \u001b[0;34m=\u001b[0m \u001b[0mmodel\u001b[0m\u001b[0;34m.\u001b[0m\u001b[0mloss\u001b[0m\u001b[0;34m(\u001b[0m\u001b[0mx\u001b[0m\u001b[0;34m,\u001b[0m\u001b[0my\u001b[0m\u001b[0;34m)\u001b[0m\u001b[0;34m\u001b[0m\u001b[0;34m\u001b[0m\u001b[0m\n\u001b[1;32m     26\u001b[0m             \u001b[0mloss\u001b[0m\u001b[0;34m.\u001b[0m\u001b[0mbackward\u001b[0m\u001b[0;34m(\u001b[0m\u001b[0;34m)\u001b[0m\u001b[0;34m\u001b[0m\u001b[0;34m\u001b[0m\u001b[0m\n\u001b[0;32m---> 27\u001b[0;31m             \u001b[0moptimizer\u001b[0m\u001b[0;34m.\u001b[0m\u001b[0mstep\u001b[0m\u001b[0;34m(\u001b[0m\u001b[0;34m)\u001b[0m\u001b[0;34m\u001b[0m\u001b[0;34m\u001b[0m\u001b[0m\n\u001b[0m\u001b[1;32m     28\u001b[0m             \u001b[0mlosses\u001b[0m\u001b[0;34m.\u001b[0m\u001b[0mappend\u001b[0m\u001b[0;34m(\u001b[0m\u001b[0mloss\u001b[0m\u001b[0;34m.\u001b[0m\u001b[0mcpu\u001b[0m\u001b[0;34m(\u001b[0m\u001b[0;34m)\u001b[0m\u001b[0;34m.\u001b[0m\u001b[0mdetach\u001b[0m\u001b[0;34m(\u001b[0m\u001b[0;34m)\u001b[0m\u001b[0;34m.\u001b[0m\u001b[0mnumpy\u001b[0m\u001b[0;34m(\u001b[0m\u001b[0;34m)\u001b[0m\u001b[0;34m)\u001b[0m\u001b[0;34m\u001b[0m\u001b[0;34m\u001b[0m\u001b[0m\n\u001b[1;32m     29\u001b[0m             \u001b[0mt\u001b[0m\u001b[0;34m.\u001b[0m\u001b[0mset_description\u001b[0m\u001b[0;34m(\u001b[0m\u001b[0mstr\u001b[0m\u001b[0;34m(\u001b[0m\u001b[0mnp\u001b[0m\u001b[0;34m.\u001b[0m\u001b[0mmean\u001b[0m\u001b[0;34m(\u001b[0m\u001b[0mlosses\u001b[0m\u001b[0;34m[\u001b[0m\u001b[0;34m-\u001b[0m\u001b[0;36m10\u001b[0m\u001b[0;34m:\u001b[0m\u001b[0;34m]\u001b[0m\u001b[0;34m)\u001b[0m\u001b[0;34m)\u001b[0m\u001b[0;34m)\u001b[0m\u001b[0;34m\u001b[0m\u001b[0;34m\u001b[0m\u001b[0m\n",
      "\u001b[0;32m/usr/local/lib/python3.8/dist-packages/torch/autograd/grad_mode.py\u001b[0m in \u001b[0;36mdecorate_context\u001b[0;34m(*args, **kwargs)\u001b[0m\n\u001b[1;32m     13\u001b[0m         \u001b[0;32mdef\u001b[0m \u001b[0mdecorate_context\u001b[0m\u001b[0;34m(\u001b[0m\u001b[0;34m*\u001b[0m\u001b[0margs\u001b[0m\u001b[0;34m,\u001b[0m \u001b[0;34m**\u001b[0m\u001b[0mkwargs\u001b[0m\u001b[0;34m)\u001b[0m\u001b[0;34m:\u001b[0m\u001b[0;34m\u001b[0m\u001b[0;34m\u001b[0m\u001b[0m\n\u001b[1;32m     14\u001b[0m             \u001b[0;32mwith\u001b[0m \u001b[0mself\u001b[0m\u001b[0;34m:\u001b[0m\u001b[0;34m\u001b[0m\u001b[0;34m\u001b[0m\u001b[0m\n\u001b[0;32m---> 15\u001b[0;31m                 \u001b[0;32mreturn\u001b[0m \u001b[0mfunc\u001b[0m\u001b[0;34m(\u001b[0m\u001b[0;34m*\u001b[0m\u001b[0margs\u001b[0m\u001b[0;34m,\u001b[0m \u001b[0;34m**\u001b[0m\u001b[0mkwargs\u001b[0m\u001b[0;34m)\u001b[0m\u001b[0;34m\u001b[0m\u001b[0;34m\u001b[0m\u001b[0m\n\u001b[0m\u001b[1;32m     16\u001b[0m         \u001b[0;32mreturn\u001b[0m \u001b[0mdecorate_context\u001b[0m\u001b[0;34m\u001b[0m\u001b[0;34m\u001b[0m\u001b[0m\n\u001b[1;32m     17\u001b[0m \u001b[0;34m\u001b[0m\u001b[0m\n",
      "\u001b[0;32m/usr/local/lib/python3.8/dist-packages/torch/optim/adam.py\u001b[0m in \u001b[0;36mstep\u001b[0;34m(self, closure)\u001b[0m\n\u001b[1;32m    105\u001b[0m                     \u001b[0mdenom\u001b[0m \u001b[0;34m=\u001b[0m \u001b[0;34m(\u001b[0m\u001b[0mmax_exp_avg_sq\u001b[0m\u001b[0;34m.\u001b[0m\u001b[0msqrt\u001b[0m\u001b[0;34m(\u001b[0m\u001b[0;34m)\u001b[0m \u001b[0;34m/\u001b[0m \u001b[0mmath\u001b[0m\u001b[0;34m.\u001b[0m\u001b[0msqrt\u001b[0m\u001b[0;34m(\u001b[0m\u001b[0mbias_correction2\u001b[0m\u001b[0;34m)\u001b[0m\u001b[0;34m)\u001b[0m\u001b[0;34m.\u001b[0m\u001b[0madd_\u001b[0m\u001b[0;34m(\u001b[0m\u001b[0mgroup\u001b[0m\u001b[0;34m[\u001b[0m\u001b[0;34m'eps'\u001b[0m\u001b[0;34m]\u001b[0m\u001b[0;34m)\u001b[0m\u001b[0;34m\u001b[0m\u001b[0;34m\u001b[0m\u001b[0m\n\u001b[1;32m    106\u001b[0m                 \u001b[0;32melse\u001b[0m\u001b[0;34m:\u001b[0m\u001b[0;34m\u001b[0m\u001b[0;34m\u001b[0m\u001b[0m\n\u001b[0;32m--> 107\u001b[0;31m                     \u001b[0mdenom\u001b[0m \u001b[0;34m=\u001b[0m \u001b[0;34m(\u001b[0m\u001b[0mexp_avg_sq\u001b[0m\u001b[0;34m.\u001b[0m\u001b[0msqrt\u001b[0m\u001b[0;34m(\u001b[0m\u001b[0;34m)\u001b[0m \u001b[0;34m/\u001b[0m \u001b[0mmath\u001b[0m\u001b[0;34m.\u001b[0m\u001b[0msqrt\u001b[0m\u001b[0;34m(\u001b[0m\u001b[0mbias_correction2\u001b[0m\u001b[0;34m)\u001b[0m\u001b[0;34m)\u001b[0m\u001b[0;34m.\u001b[0m\u001b[0madd_\u001b[0m\u001b[0;34m(\u001b[0m\u001b[0mgroup\u001b[0m\u001b[0;34m[\u001b[0m\u001b[0;34m'eps'\u001b[0m\u001b[0;34m]\u001b[0m\u001b[0;34m)\u001b[0m\u001b[0;34m\u001b[0m\u001b[0;34m\u001b[0m\u001b[0m\n\u001b[0m\u001b[1;32m    108\u001b[0m \u001b[0;34m\u001b[0m\u001b[0m\n\u001b[1;32m    109\u001b[0m                 \u001b[0mstep_size\u001b[0m \u001b[0;34m=\u001b[0m \u001b[0mgroup\u001b[0m\u001b[0;34m[\u001b[0m\u001b[0;34m'lr'\u001b[0m\u001b[0;34m]\u001b[0m \u001b[0;34m/\u001b[0m \u001b[0mbias_correction1\u001b[0m\u001b[0;34m\u001b[0m\u001b[0;34m\u001b[0m\u001b[0m\n",
      "\u001b[0;31mKeyboardInterrupt\u001b[0m: "
     ]
    }
   ],
   "source": [
    "model = load_model_darts(fine_tune=True)\n",
    "print ('darts', calculate_metrics(model, var=False))\n",
    "\n",
    "model = load_model_darts('lowt', fine_tune=True)\n",
    "print ('lowt', calculate_metrics(model, var=False))\n",
    "\n",
    "model = load_model_darts('gs',fine_tune=True)\n",
    "print ('gs', calculate_metrics(model, var=False))"
   ]
  },
  {
   "cell_type": "code",
   "execution_count": null,
   "metadata": {},
   "outputs": [
    {
     "name": "stderr",
     "output_type": "stream",
     "text": [
      "/usr/local/lib/python3.8/dist-packages/torch/serialization.py:657: SourceChangeWarning: source code of class 'models.cnn.ops.MixedOp' has changed. you can retrieve the original source code by accessing the object's source attribute or set `torch.nn.Module.dump_patches = True` and use the patch tool to revert the changes.\n",
      "  warnings.warn(msg, SourceChangeWarning)\n",
      "0.10735838:  53%|█████▎    | 494/938 [01:06<00:59,  7.51it/s] "
     ]
    }
   ],
   "source": [
    "model = load_model_darts('gs',fine_tune=True)\n",
    "print ('gs', calculate_metrics(model, var=False))"
   ]
  },
  {
   "cell_type": "code",
   "execution_count": 74,
   "metadata": {
    "scrolled": true
   },
   "outputs": [
    {
     "name": "stderr",
     "output_type": "stream",
     "text": [
      "0.1302065: 100%|██████████| 938/938 [06:17<00:00,  2.48it/s]  "
     ]
    },
    {
     "name": "stdout",
     "output_type": "stream",
     "text": [
      "running param num\n",
      "running acc\n"
     ]
    },
    {
     "name": "stderr",
     "output_type": "stream",
     "text": [
      "\n"
     ]
    },
    {
     "name": "stdout",
     "output_type": "stream",
     "text": [
      "running noise 1\n",
      "running noise 2\n",
      "running noise 3\n",
      "running noise 4\n",
      "running noise 5\n",
      "running noise 6\n",
      "running noise 7\n",
      "running noise 8\n",
      "running noise 9\n",
      "running fgm 1\n",
      "running fgm 2\n",
      "running fgm 3\n",
      "running fgm 4\n",
      "running fgm 5\n",
      "running fgm 6\n",
      "running fgm 7\n",
      "running fgm 8\n",
      "running fgm 9\n"
     ]
    },
    {
     "name": "stderr",
     "output_type": "stream",
     "text": [
      "\r",
      "  0%|          | 0/938 [00:00<?, ?it/s]"
     ]
    },
    {
     "name": "stdout",
     "output_type": "stream",
     "text": [
      "var-darts {'p_num': 17056, 'accuracy': 0.984375, 'noise': [0.984375, 0.984375, 0.984375, 0.984375, 0.96875, 0.921875, 0.890625, 0.78125, 0.609375], 'fgm': [0.96875, 0.96875, 0.96875, 0.96875, 0.953125, 0.953125, 0.953125, 0.953125, 0.921875], 'gamma': 0.8865489130434783}\n"
     ]
    },
    {
     "name": "stderr",
     "output_type": "stream",
     "text": [
      "0.15614226:   4%|▍         | 39/938 [00:17<06:33,  2.29it/s]\n"
     ]
    },
    {
     "ename": "KeyboardInterrupt",
     "evalue": "",
     "output_type": "error",
     "traceback": [
      "\u001b[0;31m---------------------------------------------------------------------------\u001b[0m",
      "\u001b[0;31mKeyboardInterrupt\u001b[0m                         Traceback (most recent call last)",
      "\u001b[0;32m<ipython-input-74-b4b988602e7c>\u001b[0m in \u001b[0;36m<module>\u001b[0;34m\u001b[0m\n\u001b[1;32m      2\u001b[0m \u001b[0mprint\u001b[0m \u001b[0;34m(\u001b[0m\u001b[0;34m'var-darts'\u001b[0m\u001b[0;34m,\u001b[0m \u001b[0mcalculate_metrics\u001b[0m\u001b[0;34m(\u001b[0m\u001b[0mmodel\u001b[0m\u001b[0;34m,\u001b[0m \u001b[0mvar\u001b[0m\u001b[0;34m=\u001b[0m\u001b[0;32mTrue\u001b[0m\u001b[0;34m)\u001b[0m\u001b[0;34m)\u001b[0m\u001b[0;34m\u001b[0m\u001b[0;34m\u001b[0m\u001b[0m\n\u001b[1;32m      3\u001b[0m \u001b[0;34m\u001b[0m\u001b[0m\n\u001b[0;32m----> 4\u001b[0;31m \u001b[0mmodel\u001b[0m \u001b[0;34m=\u001b[0m \u001b[0mload_model_var_darts\u001b[0m\u001b[0;34m(\u001b[0m\u001b[0;34m'w_only'\u001b[0m\u001b[0;34m,\u001b[0m \u001b[0mfine_tune\u001b[0m\u001b[0;34m=\u001b[0m\u001b[0;32mTrue\u001b[0m\u001b[0;34m)\u001b[0m\u001b[0;34m\u001b[0m\u001b[0;34m\u001b[0m\u001b[0m\n\u001b[0m\u001b[1;32m      5\u001b[0m \u001b[0mprint\u001b[0m \u001b[0;34m(\u001b[0m\u001b[0;34m'var-darts-only-w'\u001b[0m\u001b[0;34m,\u001b[0m \u001b[0mcalculate_metrics\u001b[0m\u001b[0;34m(\u001b[0m\u001b[0mmodel\u001b[0m\u001b[0;34m,\u001b[0m \u001b[0mvar\u001b[0m\u001b[0;34m=\u001b[0m\u001b[0;32mTrue\u001b[0m\u001b[0;34m)\u001b[0m\u001b[0;34m)\u001b[0m\u001b[0;34m\u001b[0m\u001b[0;34m\u001b[0m\u001b[0m\n\u001b[1;32m      6\u001b[0m \u001b[0;34m\u001b[0m\u001b[0m\n",
      "\u001b[0;32m<ipython-input-6-00cff3c2a43c>\u001b[0m in \u001b[0;36mload_model_var_darts\u001b[0;34m(tip, fine_tune)\u001b[0m\n\u001b[1;32m     59\u001b[0m             \u001b[0my\u001b[0m \u001b[0;34m=\u001b[0m \u001b[0my\u001b[0m\u001b[0;34m.\u001b[0m\u001b[0mcuda\u001b[0m\u001b[0;34m(\u001b[0m\u001b[0;34m)\u001b[0m\u001b[0;34m\u001b[0m\u001b[0;34m\u001b[0m\u001b[0m\n\u001b[1;32m     60\u001b[0m             \u001b[0moptimizer\u001b[0m\u001b[0;34m.\u001b[0m\u001b[0mzero_grad\u001b[0m\u001b[0;34m(\u001b[0m\u001b[0;34m)\u001b[0m\u001b[0;34m\u001b[0m\u001b[0;34m\u001b[0m\u001b[0m\n\u001b[0;32m---> 61\u001b[0;31m             \u001b[0mloss\u001b[0m \u001b[0;34m=\u001b[0m \u001b[0mmodel\u001b[0m\u001b[0;34m.\u001b[0m\u001b[0mloss\u001b[0m\u001b[0;34m(\u001b[0m\u001b[0mx\u001b[0m\u001b[0;34m,\u001b[0m\u001b[0my\u001b[0m\u001b[0;34m)\u001b[0m\u001b[0;34m\u001b[0m\u001b[0;34m\u001b[0m\u001b[0m\n\u001b[0m\u001b[1;32m     62\u001b[0m             \u001b[0mloss\u001b[0m\u001b[0;34m.\u001b[0m\u001b[0mbackward\u001b[0m\u001b[0;34m(\u001b[0m\u001b[0;34m)\u001b[0m\u001b[0;34m\u001b[0m\u001b[0;34m\u001b[0m\u001b[0m\n\u001b[1;32m     63\u001b[0m             \u001b[0moptimizer\u001b[0m\u001b[0;34m.\u001b[0m\u001b[0mstep\u001b[0m\u001b[0;34m(\u001b[0m\u001b[0;34m)\u001b[0m\u001b[0;34m\u001b[0m\u001b[0;34m\u001b[0m\u001b[0m\n",
      "\u001b[0;32m~/reps/pt.darts/models/cnn_var_local/search_cnn.py\u001b[0m in \u001b[0;36mloss\u001b[0;34m(self, X, y)\u001b[0m\n\u001b[1;32m    289\u001b[0m     \u001b[0;32mdef\u001b[0m \u001b[0mloss\u001b[0m\u001b[0;34m(\u001b[0m\u001b[0mself\u001b[0m\u001b[0;34m,\u001b[0m \u001b[0mX\u001b[0m\u001b[0;34m,\u001b[0m \u001b[0my\u001b[0m\u001b[0;34m)\u001b[0m\u001b[0;34m:\u001b[0m\u001b[0;34m\u001b[0m\u001b[0;34m\u001b[0m\u001b[0m\n\u001b[1;32m    290\u001b[0m         \u001b[0mlogits\u001b[0m \u001b[0;34m=\u001b[0m \u001b[0mself\u001b[0m\u001b[0;34m.\u001b[0m\u001b[0mforward\u001b[0m\u001b[0;34m(\u001b[0m\u001b[0mX\u001b[0m\u001b[0;34m)\u001b[0m\u001b[0;34m\u001b[0m\u001b[0;34m\u001b[0m\u001b[0m\n\u001b[0;32m--> 291\u001b[0;31m         \u001b[0mkld\u001b[0m \u001b[0;34m=\u001b[0m \u001b[0mself\u001b[0m\u001b[0;34m.\u001b[0m\u001b[0mkld\u001b[0m\u001b[0;34m(\u001b[0m\u001b[0;34m)\u001b[0m\u001b[0;34m\u001b[0m\u001b[0;34m\u001b[0m\u001b[0m\n\u001b[0m\u001b[1;32m    292\u001b[0m         \u001b[0;32mreturn\u001b[0m \u001b[0mkld\u001b[0m \u001b[0;34m/\u001b[0m \u001b[0mself\u001b[0m\u001b[0;34m.\u001b[0m\u001b[0mdataset_size\u001b[0m \u001b[0;34m+\u001b[0m \u001b[0mself\u001b[0m\u001b[0;34m.\u001b[0m\u001b[0mcriterion\u001b[0m\u001b[0;34m(\u001b[0m\u001b[0mlogits\u001b[0m\u001b[0;34m,\u001b[0m \u001b[0my\u001b[0m\u001b[0;34m)\u001b[0m\u001b[0;34m\u001b[0m\u001b[0;34m\u001b[0m\u001b[0m\n\u001b[1;32m    293\u001b[0m \u001b[0;34m\u001b[0m\u001b[0m\n",
      "\u001b[0;32m~/reps/pt.darts/models/cnn_var_local/search_cnn.py\u001b[0m in \u001b[0;36mkld\u001b[0;34m(self)\u001b[0m\n\u001b[1;32m    296\u001b[0m         \u001b[0;32mif\u001b[0m \u001b[0mself\u001b[0m\u001b[0;34m.\u001b[0m\u001b[0mnet\u001b[0m\u001b[0;34m.\u001b[0m\u001b[0mstochastic_w\u001b[0m\u001b[0;34m:\u001b[0m\u001b[0;34m\u001b[0m\u001b[0;34m\u001b[0m\u001b[0m\n\u001b[1;32m    297\u001b[0m             \u001b[0;32mfor\u001b[0m \u001b[0mw\u001b[0m\u001b[0;34m,\u001b[0m \u001b[0mh\u001b[0m \u001b[0;32min\u001b[0m \u001b[0mself\u001b[0m\u001b[0;34m.\u001b[0m\u001b[0malpha_w_h\u001b[0m\u001b[0;34m.\u001b[0m\u001b[0mitems\u001b[0m\u001b[0;34m(\u001b[0m\u001b[0;34m)\u001b[0m\u001b[0;34m:\u001b[0m\u001b[0;34m\u001b[0m\u001b[0;34m\u001b[0m\u001b[0m\n\u001b[0;32m--> 298\u001b[0;31m                 \u001b[0mk\u001b[0m\u001b[0;34m+=\u001b[0m \u001b[0mkl_normal_normal\u001b[0m\u001b[0;34m(\u001b[0m \u001b[0mw\u001b[0m\u001b[0;34m,\u001b[0m \u001b[0mtorch\u001b[0m\u001b[0;34m.\u001b[0m\u001b[0mzeros_like\u001b[0m\u001b[0;34m(\u001b[0m\u001b[0mw\u001b[0m\u001b[0;34m)\u001b[0m\u001b[0;34m,\u001b[0m \u001b[0mtorch\u001b[0m\u001b[0;34m.\u001b[0m\u001b[0mexp\u001b[0m\u001b[0;34m(\u001b[0m\u001b[0mself\u001b[0m\u001b[0;34m.\u001b[0m\u001b[0msigmas_w\u001b[0m\u001b[0;34m[\u001b[0m\u001b[0mw\u001b[0m\u001b[0;34m]\u001b[0m\u001b[0;34m)\u001b[0m\u001b[0;34m,\u001b[0m \u001b[0mtorch\u001b[0m\u001b[0;34m.\u001b[0m\u001b[0mexp\u001b[0m\u001b[0;34m(\u001b[0m\u001b[0mh\u001b[0m\u001b[0;34m)\u001b[0m\u001b[0;34m)\u001b[0m\u001b[0;34m\u001b[0m\u001b[0;34m\u001b[0m\u001b[0m\n\u001b[0m\u001b[1;32m    299\u001b[0m \u001b[0;34m\u001b[0m\u001b[0m\n\u001b[1;32m    300\u001b[0m         \u001b[0;32mif\u001b[0m \u001b[0mself\u001b[0m\u001b[0;34m.\u001b[0m\u001b[0mnet\u001b[0m\u001b[0;34m.\u001b[0m\u001b[0mstochastic_gamma\u001b[0m\u001b[0;34m:\u001b[0m\u001b[0;34m\u001b[0m\u001b[0;34m\u001b[0m\u001b[0m\n",
      "\u001b[0;32m~/reps/pt.darts/models/cnn_var_local/search_cnn.py\u001b[0m in \u001b[0;36mkl_normal_normal\u001b[0;34m(pl, ql, ps, qs)\u001b[0m\n\u001b[1;32m    185\u001b[0m     \u001b[0mt1\u001b[0m \u001b[0;34m=\u001b[0m \u001b[0;34m(\u001b[0m\u001b[0;34m(\u001b[0m\u001b[0mpl\u001b[0m \u001b[0;34m-\u001b[0m \u001b[0mql\u001b[0m\u001b[0;34m)\u001b[0m \u001b[0;34m/\u001b[0m \u001b[0mqs\u001b[0m\u001b[0;34m)\u001b[0m\u001b[0;34m.\u001b[0m\u001b[0mpow\u001b[0m\u001b[0;34m(\u001b[0m\u001b[0;36m2\u001b[0m\u001b[0;34m)\u001b[0m\u001b[0;34m\u001b[0m\u001b[0;34m\u001b[0m\u001b[0m\n\u001b[1;32m    186\u001b[0m \u001b[0;34m\u001b[0m\u001b[0m\n\u001b[0;32m--> 187\u001b[0;31m     \u001b[0mresult\u001b[0m \u001b[0;34m=\u001b[0m  \u001b[0;36m0.5\u001b[0m \u001b[0;34m*\u001b[0m \u001b[0;34m(\u001b[0m\u001b[0mvar_ratio\u001b[0m \u001b[0;34m+\u001b[0m \u001b[0mt1\u001b[0m \u001b[0;34m-\u001b[0m \u001b[0;36m1\u001b[0m \u001b[0;34m-\u001b[0m \u001b[0mvar_ratio\u001b[0m\u001b[0;34m.\u001b[0m\u001b[0mlog\u001b[0m\u001b[0;34m(\u001b[0m\u001b[0;34m)\u001b[0m\u001b[0;34m)\u001b[0m\u001b[0;34m.\u001b[0m\u001b[0msum\u001b[0m\u001b[0;34m(\u001b[0m\u001b[0;34m)\u001b[0m\u001b[0;34m\u001b[0m\u001b[0;34m\u001b[0m\u001b[0m\n\u001b[0m\u001b[1;32m    188\u001b[0m     \u001b[0;32mreturn\u001b[0m \u001b[0mresult\u001b[0m\u001b[0;34m\u001b[0m\u001b[0;34m\u001b[0m\u001b[0m\n\u001b[1;32m    189\u001b[0m \u001b[0;34m\u001b[0m\u001b[0m\n",
      "\u001b[0;31mKeyboardInterrupt\u001b[0m: "
     ]
    }
   ],
   "source": [
    "model = load_model_var_darts(fine_tune=True)\n",
    "print ('var-darts', calculate_metrics(model, var=True))\n",
    "\n",
    "model = load_model_var_darts('w_only', fine_tune=True)\n",
    "print ('var-darts-only-w', calculate_metrics(model, var=True))\n",
    "\n",
    "model = load_model_var_darts('t_only',fine_tune=True)\n",
    "print ('var-darts-only-g', calculate_metrics(model, var=True))"
   ]
  },
  {
   "cell_type": "markdown",
   "metadata": {},
   "source": [
    "# Результаты"
   ]
  },
  {
   "cell_type": "markdown",
   "metadata": {},
   "source": [
    "| Модель | Accuracy | Accuracy при удалении одного ребра | Количество параметров |\n",
    "| --- | --- | --- | --- |\n",
    "| DARTS | 20 | 11 | 11K |\n",
    "| DARTS (fine-tune) | 97 | 85 | 11K |\n",
    "| DARTS с понижением температуры | 12 | 8 | 10K |\n",
    "| DARTS с понижением температуры (fine-tune) | 97 | 77 | 10K |\n",
    "| DARTS + Gumbel-Softmax | 95 | 88 | 4K |\n",
    "| DARTS + Gumbel-Softmax (fine-tune) | 100 | 91 | 4K |\n",
    "| Вариационная модель | 97 | 86 | 17K |\n",
    "| Вариационная модель (fine-tune) | 98 | 89 | 17K |\n",
    "| Вариационные параметры | 98 | 86 | 11K |\n",
    "| Вариационные параметры (fine-tune) | 95 | 83 | 11K |\n",
    "| Вариационная структура | 97 | 89 | 7K |\n",
    "| Вариационная структура (fine-tune) | 100 | 94 | 7K |\n"
   ]
  },
  {
   "cell_type": "code",
   "execution_count": 22,
   "metadata": {},
   "outputs": [
    {
     "data": {
      "text/plain": [
       "Text(0.5, 1.0, 'Adversarial attack robustness')"
      ]
     },
     "execution_count": 22,
     "metadata": {},
     "output_type": "execute_result"
    },
    {
     "data": {
      "image/png": "[encoded data removed]",
      "text/plain": [
       "<Figure size 1080x720 with 1 Axes>"
      ]
     },
     "metadata": {
      "needs_background": "light"
     },
     "output_type": "display_data"
    }
   ],
   "source": [
    "plt.rcParams['figure.figsize'] = (15,  10)\n",
    "plt.rcParams['font.size'] = 20\n",
    "plt.plot(range(1, 10), [0.96875, 0.96875, 0.96875, 0.953125, 0.953125, 0.953125, 0.9375, 0.90625, 0.890625], label='VAR')\n",
    "plt.plot(range(1, 10), [0.984375, 0.96875, 0.96875, 0.96875, 0.96875, 0.96875, 0.953125, 0.921875, 0.921875], label='VAR-fine')\n",
    "plt.plot(range(1, 10), [0.984375, 0.96875, 0.953125, 0.9375, 0.90625, 0.890625, 0.875, 0.875, 0.875], label='VAR-w')\n",
    "plt.plot(range(1, 10), [0.9375, 0.921875, 0.921875, 0.921875, 0.921875, 0.921875, 0.921875, 0.875, 0.84375], label='VAR-w-fine')\n",
    "plt.plot(range(1, 10), [0.96875, 0.953125, 0.9375, 0.875, 0.84375, 0.796875, 0.78125, 0.703125, 0.59375], label='VAR-Gamma')\n",
    "plt.plot(range(1, 10), [0.984375, 0.96875, 0.953125, 0.9375, 0.890625, 0.875, 0.84375, 0.8125, 0.75], label='VAR-Gamma')\n",
    "plt.plot(range(1, 10), [0.9375, 0.9375, 0.890625, 0.859375, 0.796875, 0.75, 0.6875, 0.625, 0.578125], label='DARTS-Gamma')\n",
    "plt.plot(range(1, 10), [0.984375, 0.984375, 0.96875, 0.96875, 0.890625, 0.828125, 0.78125, 0.71875, 0.6875], label='DARTS-Gamma-fine')\n",
    "plt.plot(range(1, 10), [0.96875, 0.96875, 0.96875, 0.90625, 0.84375, 0.84375, 0.828125, 0.796875, 0.75], label='DARTS-fine')\n",
    "plt.plot(range(1, 10), [0.953125, 0.921875, 0.921875, 0.859375, 0.8125, 0.6875, 0.640625, 0.53125, 0.46875], label='DARTS-low-t-fine')\n",
    "\n",
    "plt.legend(loc='best')\n",
    "plt.xlabel('FGM epsilon')\n",
    "plt.ylabel('Accuracy')\n",
    "plt.title('Adversarial attack robustness')\n"
   ]
  }
 ],
 "metadata": {
  "kernelspec": {
   "display_name": "Python 3",
   "language": "python",
   "name": "python3"
  },
  "language_info": {
   "codemirror_mode": {
    "name": "ipython",
    "version": 3
   },
   "file_extension": ".py",
   "mimetype": "text/x-python",
   "name": "python",
   "nbconvert_exporter": "python",
   "pygments_lexer": "ipython3",
   "version": "3.8.5"
  }
 },
 "nbformat": 4,
 "nbformat_minor": 4
}
